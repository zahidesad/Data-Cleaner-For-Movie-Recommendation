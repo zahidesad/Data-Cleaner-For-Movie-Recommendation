{
 "cells": [
  {
   "cell_type": "code",
   "execution_count": 1,
   "id": "47c3826c-76f8-4106-a7a9-c460a7006a27",
   "metadata": {
    "ExecuteTime": {
     "end_time": "2024-05-21T12:59:04.606094200Z",
     "start_time": "2024-05-21T12:59:04.078385300Z"
    }
   },
   "outputs": [],
   "source": [
    "import pandas as pd\n",
    "\n",
    "data = {\n",
    "    'A': [1, 2, 3, 4, 5],\n",
    "    'B': [10, 20, 30, 40, 50],\n",
    "    'C': [100, 200, 300, 400, 500]\n",
    "}\n",
    "\n",
    "df = pd.DataFrame(data)\n"
   ]
  },
  {
   "cell_type": "code",
   "execution_count": 3,
   "id": "5c4c6d56-9eb2-4266-bfe4-346d638d11c2",
   "metadata": {
    "ExecuteTime": {
     "end_time": "2024-05-21T12:59:44.039010700Z",
     "start_time": "2024-05-21T12:59:44.030002Z"
    }
   },
   "outputs": [
    {
     "name": "stdout",
     "output_type": "stream",
     "text": [
      "Min-Max Scaled DataFrame:\n",
      "       A     B    C\n",
      "0  0.00  0.00  100\n",
      "1  0.25  0.25  200\n",
      "2  0.50  0.50  300\n",
      "3  0.75  0.75  400\n",
      "4  1.00  1.00  500\n",
      "Standard Scaled DataFrame:\n",
      "           A         B    C\n",
      "0 -1.264911 -1.264911  100\n",
      "1 -0.632456 -0.632456  200\n",
      "2  0.000000  0.000000  300\n",
      "3  0.632456  0.632456  400\n",
      "4  1.264911  1.264911  500\n"
     ]
    }
   ],
   "source": [
    "# Importing the Scaler module\n",
    "from data_cleaner.scaler import Scaler\n",
    "\n",
    "# Initialize the class\n",
    "scaler = Scaler(df)\n",
    "\n",
    "# Min-Max scaling\n",
    "df_min_max_scaled = scaler.min_max_scale(columns=['A', 'B'])\n",
    "print(\"Min-Max Scaled DataFrame:\\n\", df_min_max_scaled)\n",
    "\n",
    "# Standard scaling\n",
    "df_standard_scaled = scaler.standard_scale(columns=['A', 'B'])\n",
    "print(\"Standard Scaled DataFrame:\\n\", df_standard_scaled)\n"
   ]
  },
  {
   "cell_type": "code",
   "execution_count": null,
   "id": "99815bf8-42b7-447f-92ae-4a43a1cbdc84",
   "metadata": {},
   "outputs": [],
   "source": []
  }
 ],
 "metadata": {
  "kernelspec": {
   "display_name": "Python 3 (ipykernel)",
   "language": "python",
   "name": "python3"
  },
  "language_info": {
   "codemirror_mode": {
    "name": "ipython",
    "version": 3
   },
   "file_extension": ".py",
   "mimetype": "text/x-python",
   "name": "python",
   "nbconvert_exporter": "python",
   "pygments_lexer": "ipython3",
   "version": "3.11.5"
  }
 },
 "nbformat": 4,
 "nbformat_minor": 5
}
