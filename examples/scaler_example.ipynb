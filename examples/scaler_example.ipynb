{
 "cells": [
  {
   "cell_type": "code",
   "execution_count": 1,
   "id": "47c3826c-76f8-4106-a7a9-c460a7006a27",
   "metadata": {},
   "outputs": [
    {
     "name": "stdout",
     "output_type": "stream",
     "text": [
      "Original DataFrame:\n",
      "   A   B\n",
      "0  1  10\n",
      "1  2  20\n",
      "2  3  30\n",
      "3  4  40\n",
      "4  5  50\n",
      "\n",
      "DataFrame after Min-Max Scaling:\n",
      "      A     B\n",
      "0  0.00  0.00\n",
      "1  0.25  0.25\n",
      "2  0.50  0.50\n",
      "3  0.75  0.75\n",
      "4  1.00  1.00\n",
      "\n",
      "DataFrame after Standard Scaling:\n",
      "          A         B\n",
      "0 -1.414214 -1.414214\n",
      "1 -0.707107 -0.707107\n",
      "2  0.000000  0.000000\n",
      "3  0.707107  0.707107\n",
      "4  1.414214  1.414214\n"
     ]
    }
   ],
   "source": [
    "import sys\n",
    "sys.path.append(\"..\")\n",
    "\n",
    "import pandas as pd\n",
    "from data_cleaner.scaler import Scaler\n",
    "# Örnek DataFrame\n",
    "df = pd.DataFrame({\n",
    "    'A': [1, 2, 3, 4, 5],\n",
    "    'B': [10, 20, 30, 40, 50]\n",
    "})\n",
    "\n",
    "print(\"Original DataFrame:\")\n",
    "print(df)\n",
    "\n",
    "# Min-Max ölçeklendirme\n",
    "df_scaled = Scaler.min_max_scaling(df, ['A', 'B'])\n",
    "print(\"\\nDataFrame after Min-Max Scaling:\")\n",
    "print(df_scaled)\n",
    "\n",
    "# Standard ölçeklendirme\n",
    "df_standard_scaled = Scaler.standard_scaling(df, ['A', 'B'])\n",
    "print(\"\\nDataFrame after Standard Scaling:\")\n",
    "print(df_standard_scaled)\n"
   ]
  },
  {
   "cell_type": "code",
   "execution_count": 5,
   "id": "5c4c6d56-9eb2-4266-bfe4-346d638d11c2",
   "metadata": {},
   "outputs": [
    {
     "name": "stdout",
     "output_type": "stream",
     "text": [
      "Original DataFrame:\n",
      "0      9.750176\n",
      "1      7.912876\n",
      "2      3.116053\n",
      "3      8.811783\n",
      "4      5.250991\n",
      "         ...   \n",
      "995    9.289647\n",
      "996    8.779748\n",
      "997    3.418956\n",
      "998    9.090440\n",
      "999    7.430801\n",
      "Name: Rating, Length: 1000, dtype: float64\n",
      "\n",
      "DataFrame after Min-Max Scaling:\n",
      "0      0.966213\n",
      "1      0.702310\n",
      "2      0.013313\n",
      "3      0.831426\n",
      "4      0.319967\n",
      "         ...   \n",
      "995    0.900064\n",
      "996    0.826824\n",
      "997    0.056821\n",
      "998    0.871451\n",
      "999    0.633067\n",
      "Name: Rating, Length: 1000, dtype: float64\n",
      "\n",
      "DataFrame after Standard Scaling:\n",
      "0      0.960635\n",
      "1     -0.078651\n",
      "2     -2.792019\n",
      "3      0.429824\n",
      "4     -1.584371\n",
      "         ...   \n",
      "995    0.700133\n",
      "996    0.411703\n",
      "997   -2.620679\n",
      "998    0.587450\n",
      "999   -0.351341\n",
      "Name: Rating, Length: 1000, dtype: float64\n"
     ]
    }
   ],
   "source": [
    "df = pd.read_csv('C:\\\\Users\\\\zahid\\\\Programming For Data Engineering\\\\Data Cleaner For Movie Recommendation\\\\tests\\\\synthetic_sample_data.csv')\n",
    "\n",
    "print(\"Original DataFrame:\")\n",
    "print(df['Rating'])\n",
    "\n",
    "# Min-Max scaling\n",
    "df_scaled = Scaler.min_max_scaling(df, ['Rating'])\n",
    "print(\"\\nDataFrame after Min-Max Scaling:\")\n",
    "print(df_scaled['Rating'])\n",
    "\n",
    "# Standard scaling\n",
    "df_standard_scaled = Scaler.standard_scaling(df, ['Rating'])\n",
    "print(\"\\nDataFrame after Standard Scaling:\")\n",
    "print(df_standard_scaled['Rating'])"
   ]
  },
  {
   "cell_type": "code",
   "execution_count": null,
   "id": "99815bf8-42b7-447f-92ae-4a43a1cbdc84",
   "metadata": {},
   "outputs": [],
   "source": []
  }
 ],
 "metadata": {
  "kernelspec": {
   "display_name": "Python 3 (ipykernel)",
   "language": "python",
   "name": "python3"
  },
  "language_info": {
   "codemirror_mode": {
    "name": "ipython",
    "version": 3
   },
   "file_extension": ".py",
   "mimetype": "text/x-python",
   "name": "python",
   "nbconvert_exporter": "python",
   "pygments_lexer": "ipython3",
   "version": "3.11.5"
  }
 },
 "nbformat": 4,
 "nbformat_minor": 5
}
