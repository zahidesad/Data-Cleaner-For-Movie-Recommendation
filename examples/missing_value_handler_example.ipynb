{
 "cells": [
  {
   "cell_type": "code",
   "execution_count": 5,
   "id": "a2133b25-6367-4978-adc2-c9c9af0d54e5",
   "metadata": {
    "ExecuteTime": {
     "end_time": "2024-05-21T12:53:02.134854200Z",
     "start_time": "2024-05-21T12:53:02.130517600Z"
    }
   },
   "outputs": [],
   "source": [
    "import pandas as pd\n",
    "import numpy as np\n",
    "\n",
    "\n",
    "data = {\n",
    "    'A': [1, 2, np.nan, 4, 5],\n",
    "    'B': [np.nan, 2, 3, 4, 5],\n",
    "    'C': [1, 2, 3, 4, np.nan]\n",
    "}\n",
    "\n",
    "df = pd.DataFrame(data)\n"
   ]
  },
  {
   "cell_type": "code",
   "execution_count": 6,
   "id": "86abe90e-d2c8-4ddd-b609-31f7c19f03e8",
   "metadata": {
    "ExecuteTime": {
     "end_time": "2024-05-21T12:53:02.531103600Z",
     "start_time": "2024-05-21T12:53:02.516540100Z"
    }
   },
   "outputs": [
    {
     "name": "stdout",
     "output_type": "stream",
     "text": [
      "Missing Values:\n",
      "        A      B      C\n",
      "0  False   True  False\n",
      "1  False  False  False\n",
      "2   True  False  False\n",
      "3  False  False  False\n",
      "4  False  False   True\n",
      "After Mean Imputation:\n",
      "      A    B    C\n",
      "0  1.0  3.5  1.0\n",
      "1  2.0  2.0  2.0\n",
      "2  3.0  3.0  3.0\n",
      "3  4.0  4.0  4.0\n",
      "4  5.0  5.0  2.5\n",
      "After Median Imputation:\n",
      "      A    B    C\n",
      "0  1.0  3.5  1.0\n",
      "1  2.0  2.0  2.0\n",
      "2  3.0  3.0  3.0\n",
      "3  4.0  4.0  4.0\n",
      "4  5.0  5.0  2.5\n",
      "After Constant Imputation:\n",
      "      A    B    C\n",
      "0  1.0  3.5  1.0\n",
      "1  2.0  2.0  2.0\n",
      "2  3.0  3.0  3.0\n",
      "3  4.0  4.0  4.0\n",
      "4  5.0  5.0  2.5\n",
      "After Dropping Rows with Any Missing Values:\n",
      "      A    B    C\n",
      "0  1.0  3.5  1.0\n",
      "1  2.0  2.0  2.0\n",
      "2  3.0  3.0  3.0\n",
      "3  4.0  4.0  4.0\n",
      "4  5.0  5.0  2.5\n"
     ]
    }
   ],
   "source": [
    "from data_cleaner.missing_value_handler import MissingValueHandler\n",
    "\n",
    "# Initialize the class\n",
    "handler = MissingValueHandler(df)\n",
    "\n",
    "# Identify missing values\n",
    "missing_values = handler.identify_missing()\n",
    "print(\"Missing Values:\\n\", missing_values)\n",
    "\n",
    "# Fill missing values with average\n",
    "df_imputed_mean = handler.impute_mean()\n",
    "print(\"After Mean Imputation:\\n\", df_imputed_mean)\n",
    "\n",
    "# Fill missing values with median\n",
    "df_imputed_median = handler.impute_median()\n",
    "print(\"After Median Imputation:\\n\", df_imputed_median)\n",
    "\n",
    "# Filling missing values with a constant value (e.g. 0)\n",
    "df_imputed_constant = handler.impute_constant(0)\n",
    "print(\"After Constant Imputation:\\n\", df_imputed_constant)\n",
    "\n",
    "# Delete rows or columns containing missing values\n",
    "df_dropped = handler.drop_missing(axis=0, how='any')\n",
    "print(\"After Dropping Rows with Any Missing Values:\\n\", df_dropped)\n"
   ]
  },
  {
   "cell_type": "code",
   "execution_count": null,
   "id": "72992b59-7fac-46f1-b5e2-63e619c47bac",
   "metadata": {},
   "outputs": [],
   "source": []
  }
 ],
 "metadata": {
  "kernelspec": {
   "display_name": "Python 3 (ipykernel)",
   "language": "python",
   "name": "python3"
  },
  "language_info": {
   "codemirror_mode": {
    "name": "ipython",
    "version": 3
   },
   "file_extension": ".py",
   "mimetype": "text/x-python",
   "name": "python",
   "nbconvert_exporter": "python",
   "pygments_lexer": "ipython3",
   "version": "3.11.5"
  }
 },
 "nbformat": 4,
 "nbformat_minor": 5
}
