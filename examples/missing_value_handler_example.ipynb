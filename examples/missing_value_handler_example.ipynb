{
 "cells": [
  {
   "cell_type": "code",
   "execution_count": 6,
   "id": "a2133b25-6367-4978-adc2-c9c9af0d54e5",
   "metadata": {},
   "outputs": [
    {
     "name": "stdout",
     "output_type": "stream",
     "text": [
      "Original DataFrame:\n",
      "     A    B\n",
      "0  1.0  NaN\n",
      "1  2.0  2.0\n",
      "2  NaN  3.0\n",
      "3  4.0  NaN\n",
      "4  5.0  5.0\n",
      "\n",
      "Mean imputed DataFrame:\n",
      "     A    B\n",
      "0  1.0  NaN\n",
      "1  2.0  2.0\n",
      "2  3.0  3.0\n",
      "3  4.0  NaN\n",
      "4  5.0  5.0\n",
      "\n",
      "DataFrame after deleting rows with missing values in column B:\n",
      "     A    B\n",
      "1  2.0  2.0\n",
      "2  3.0  3.0\n",
      "4  5.0  5.0\n"
     ]
    }
   ],
   "source": [
    "import sys\n",
    "sys.path.append(\"..\")\n",
    "\n",
    "import pandas as pd\n",
    "from data_cleaner.missing_value_handler import MissingValueHandler\n",
    "\n",
    "# Example DataFrame\n",
    "df = pd.DataFrame({\n",
    "    'A': [1, 2, None, 4, 5],\n",
    "    'B': [None, 2, 3, None, 5]\n",
    "})\n",
    "\n",
    "print(\"Original DataFrame:\")\n",
    "print(df)\n",
    "\n",
    "# Fill missing values with mean strategy\n",
    "df = MissingValueHandler.impute(df, 'A', strategy='mean')\n",
    "print(\"\\nMean imputed DataFrame:\")\n",
    "print(df)\n",
    "\n",
    "# delete missing values\n",
    "df = MissingValueHandler.delete_rows(df, ['B'])\n",
    "print(\"\\nDataFrame after deleting rows with missing values in column B:\")\n",
    "print(df)\n"
   ]
  },
  {
   "cell_type": "code",
   "execution_count": null,
   "id": "86abe90e-d2c8-4ddd-b609-31f7c19f03e8",
   "metadata": {},
   "outputs": [],
   "source": []
  }
 ],
 "metadata": {
  "kernelspec": {
   "display_name": "Python 3 (ipykernel)",
   "language": "python",
   "name": "python3"
  },
  "language_info": {
   "codemirror_mode": {
    "name": "ipython",
    "version": 3
   },
   "file_extension": ".py",
   "mimetype": "text/x-python",
   "name": "python",
   "nbconvert_exporter": "python",
   "pygments_lexer": "ipython3",
   "version": "3.11.5"
  }
 },
 "nbformat": 4,
 "nbformat_minor": 5
}
