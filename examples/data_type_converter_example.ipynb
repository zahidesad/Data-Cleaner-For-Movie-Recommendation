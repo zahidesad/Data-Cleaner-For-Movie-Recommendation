{
 "cells": [
  {
   "cell_type": "code",
   "execution_count": 10,
   "id": "4891a3a1-c2fc-43f1-abc8-7ef544ff7b32",
   "metadata": {
    "ExecuteTime": {
     "end_time": "2024-05-21T13:55:45.643311400Z",
     "start_time": "2024-05-21T13:55:45.629615800Z"
    }
   },
   "outputs": [],
   "source": [
    "import pandas as pd\n",
    "\n",
    "data = pd.DataFrame({\n",
    "    'A': ['1', '2', '3', '4'],\n",
    "    'B': ['a', 'b', 'c', 'd'],\n",
    "    'C': ['1.1', '2.2', '3.3', '4.4']\n",
    "})"
   ]
  },
  {
   "cell_type": "code",
   "execution_count": 11,
   "id": "0507c9f7-3bdd-473e-82b3-3f929da1ac75",
   "metadata": {
    "ExecuteTime": {
     "end_time": "2024-05-21T13:55:45.795271100Z",
     "start_time": "2024-05-21T13:55:45.787666800Z"
    }
   },
   "outputs": [
    {
     "name": "stdout",
     "output_type": "stream",
     "text": [
      "Numeric conversion : \n",
      "A      int64\n",
      "B     object\n",
      "C    float64\n",
      "dtype: object\n",
      "\n",
      "Categorical conversion :\n",
      "A       int64\n",
      "B    category\n",
      "C     float64\n",
      "dtype: object\n"
     ]
    }
   ],
   "source": [
    "from data_cleaner.data_type_converter import DataTypeConverter\n",
    "\n",
    "converter = DataTypeConverter()\n",
    "\n",
    "print(\"Numeric conversion : \")\n",
    "data = converter.convert_to_numeric(data, ['A', 'C'])\n",
    "print(data.dtypes)\n",
    "\n",
    "print(\"\\nCategorical conversion :\")\n",
    "data = converter.convert_to_categorical(data, ['B'])\n",
    "\n",
    "print(data.dtypes)"
   ]
  },
  {
   "cell_type": "code",
   "outputs": [],
   "source": [],
   "metadata": {
    "collapsed": false
   },
   "id": "155753d049a9f803"
  }
 ],
 "metadata": {
  "kernelspec": {
   "display_name": "Python 3 (ipykernel)",
   "language": "python",
   "name": "python3"
  },
  "language_info": {
   "codemirror_mode": {
    "name": "ipython",
    "version": 3
   },
   "file_extension": ".py",
   "mimetype": "text/x-python",
   "name": "python",
   "nbconvert_exporter": "python",
   "pygments_lexer": "ipython3",
   "version": "3.11.5"
  }
 },
 "nbformat": 4,
 "nbformat_minor": 5
}
