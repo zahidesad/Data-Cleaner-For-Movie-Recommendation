{
 "cells": [
  {
   "cell_type": "code",
   "execution_count": 1,
   "id": "ca470cc4-f609-44bf-bc69-428544fd532a",
   "metadata": {
    "ExecuteTime": {
     "end_time": "2024-05-23T17:38:42.861436500Z",
     "start_time": "2024-05-23T17:38:42.845428Z"
    }
   },
   "outputs": [],
   "source": [
    "# Sample text data\n",
    "text = \"Hello World! This is a test sentence with numbers 12345 and special characters #@$%.\""
   ]
  },
  {
   "cell_type": "code",
   "execution_count": 2,
   "id": "bbb6862b-4ffd-4298-b902-94ca1e0671a8",
   "metadata": {
    "ExecuteTime": {
     "end_time": "2024-05-23T17:38:48.783229200Z",
     "start_time": "2024-05-23T17:38:45.680533500Z"
    }
   },
   "outputs": [
    {
     "name": "stdout",
     "output_type": "stream",
     "text": [
      "Lowercase: hello world! this is a test sentence with numbers 12345 and special characters #@$%.\n",
      "No punctuation: hello world this is a test sentence with numbers 12345 and special characters \n",
      "No numbers: hello world this is a test sentence with numbers  and special characters \n",
      "No stopwords: hello world test sentence numbers special characters\n",
      "Stemmed: hello world test sentenc number special charact\n",
      "Lemmatized: hello world test sentenc number special charact\n",
      "No extra whitespace: hello world test sentenc number special charact\n",
      "No special characters: hello world test sentenc number special charact\n"
     ]
    }
   ],
   "source": [
    "# Import the TextCleaner class\n",
    "from data_cleaner.text_cleaner import TextCleaner\n",
    "\n",
    "# Instantiate TextCleaner\n",
    "text_cleaner = TextCleaner(text)\n",
    "\n",
    "# Perform text cleaning operations\n",
    "text_cleaner.lowercase()\n",
    "print(\"Lowercase:\", text_cleaner.text)\n",
    "\n",
    "text_cleaner.remove_punctuation()\n",
    "print(\"No punctuation:\", text_cleaner.text)\n",
    "\n",
    "text_cleaner.remove_numbers()\n",
    "print(\"No numbers:\", text_cleaner.text)\n",
    "\n",
    "text_cleaner.remove_stopwords()\n",
    "print(\"No stopwords:\", text_cleaner.text)\n",
    "\n",
    "text_cleaner.stem_text()\n",
    "print(\"Stemmed:\", text_cleaner.text)\n",
    "\n",
    "text_cleaner.lemmatize_text()\n",
    "print(\"Lemmatized:\", text_cleaner.text)\n",
    "\n",
    "text_cleaner.remove_whitespace()\n",
    "print(\"No extra whitespace:\", text_cleaner.text)\n",
    "\n",
    "text_cleaner.remove_special_characters()\n",
    "print(\"No special characters:\", text_cleaner.text)\n"
   ]
  },
  {
   "cell_type": "raw",
   "source": [],
   "metadata": {
    "collapsed": false
   },
   "id": "30eb4f52dc523fb4"
  }
 ],
 "metadata": {
  "kernelspec": {
   "display_name": "Python 3 (ipykernel)",
   "language": "python",
   "name": "python3"
  },
  "language_info": {
   "codemirror_mode": {
    "name": "ipython",
    "version": 3
   },
   "file_extension": ".py",
   "mimetype": "text/x-python",
   "name": "python",
   "nbconvert_exporter": "python",
   "pygments_lexer": "ipython3",
   "version": "3.11.5"
  }
 },
 "nbformat": 4,
 "nbformat_minor": 5
}
