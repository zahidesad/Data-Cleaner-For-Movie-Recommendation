{
 "cells": [
  {
   "cell_type": "code",
   "execution_count": 2,
   "id": "ca470cc4-f609-44bf-bc69-428544fd532a",
   "metadata": {},
   "outputs": [
    {
     "name": "stdout",
     "output_type": "stream",
     "text": [
      "Cleaned text: sample text URL httpsexamplecom punctuation\n",
      "Text without URLs: This is a sample text with URL  and some punctuation!!!\n"
     ]
    }
   ],
   "source": [
    "import sys\n",
    "sys.path.append(\"..\")\n",
    "\n",
    "from data_cleaner.text_cleaner import TextCleaner\n",
    "\n",
    "# Example text\n",
    "text = \"This is a sample text with URL https://example.com and some punctuation!!!\"\n",
    "\n",
    "# TextCleaner example\n",
    "cleaner = TextCleaner()\n",
    "\n",
    "# Clean text\n",
    "cleaned_text = cleaner.clean_text(text)\n",
    "print(\"Cleaned text:\", cleaned_text)\n",
    "\n",
    "# Clean URL\n",
    "text_no_urls = TextCleaner.remove_urls(text)\n",
    "print(\"Text without URLs:\", text_no_urls)\n"
   ]
  },
  {
   "cell_type": "code",
   "execution_count": null,
   "id": "bbb6862b-4ffd-4298-b902-94ca1e0671a8",
   "metadata": {},
   "outputs": [],
   "source": []
  }
 ],
 "metadata": {
  "kernelspec": {
   "display_name": "Python 3 (ipykernel)",
   "language": "python",
   "name": "python3"
  },
  "language_info": {
   "codemirror_mode": {
    "name": "ipython",
    "version": 3
   },
   "file_extension": ".py",
   "mimetype": "text/x-python",
   "name": "python",
   "nbconvert_exporter": "python",
   "pygments_lexer": "ipython3",
   "version": "3.11.5"
  }
 },
 "nbformat": 4,
 "nbformat_minor": 5
}
