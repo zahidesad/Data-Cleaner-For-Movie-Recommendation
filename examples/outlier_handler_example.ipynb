{
 "cells": [
  {
   "cell_type": "code",
   "execution_count": 38,
   "id": "5670d94d-0d7d-49cf-8235-8b6f12daa090",
   "metadata": {},
   "outputs": [
    {
     "name": "stdout",
     "output_type": "stream",
     "text": [
      "Original DataFrame:\n",
      "     A   B\n",
      "0    1  10\n",
      "1    2  20\n",
      "2    3  30\n",
      "3    4  40\n",
      "4  100  50\n",
      "\n",
      "DataFrame after IQR outlier detection:\n",
      "   A   B\n",
      "0  1  10\n",
      "1  2  20\n",
      "2  3  30\n",
      "3  4  40\n",
      "\n",
      "DataFrame after replacing outliers with mean:\n",
      "      A   B\n",
      "0   1.0  10\n",
      "1   2.0  20\n",
      "2   3.0  30\n",
      "3   4.0  40\n",
      "4  22.0  50\n"
     ]
    }
   ],
   "source": [
    "import sys\n",
    "sys.path.append(\"..\")\n",
    "\n",
    "import pandas as pd\n",
    "from data_cleaner.outlier_handler import OutlierHandler\n",
    "\n",
    "# Örnek DataFrame\n",
    "df = pd.DataFrame({\n",
    "    'A': [1, 2, 3, 4, 100],\n",
    "    'B': [10, 20, 30, 40, 50]\n",
    "})\n",
    "\n",
    "print(\"Original DataFrame:\")\n",
    "print(df)\n",
    "\n",
    "# Detection of outliers with the IQR method\n",
    "df_no_outliers = OutlierHandler.iqr_outlier_detection(df, 'A')\n",
    "print(\"\\nDataFrame after IQR outlier detection:\")\n",
    "print(df_no_outliers)\n",
    "\n",
    "# Replacing outliers with the mean\n",
    "df_replaced_outliers = OutlierHandler.replace_outliers(df, 'A', method='mean')\n",
    "print(\"\\nDataFrame after replacing outliers with mean:\")\n",
    "print(df_replaced_outliers)\n"
   ]
  },
  {
   "cell_type": "code",
   "execution_count": null,
   "id": "43e65d1b-7de6-40d2-9468-e6acfaaae1f5",
   "metadata": {},
   "outputs": [],
   "source": []
  }
 ],
 "metadata": {
  "kernelspec": {
   "display_name": "Python 3 (ipykernel)",
   "language": "python",
   "name": "python3"
  },
  "language_info": {
   "codemirror_mode": {
    "name": "ipython",
    "version": 3
   },
   "file_extension": ".py",
   "mimetype": "text/x-python",
   "name": "python",
   "nbconvert_exporter": "python",
   "pygments_lexer": "ipython3",
   "version": "3.11.5"
  }
 },
 "nbformat": 4,
 "nbformat_minor": 5
}
