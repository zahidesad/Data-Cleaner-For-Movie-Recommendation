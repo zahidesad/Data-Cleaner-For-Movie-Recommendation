{
 "cells": [
  {
   "cell_type": "code",
   "execution_count": 1,
   "id": "5670d94d-0d7d-49cf-8235-8b6f12daa090",
   "metadata": {
    "ExecuteTime": {
     "end_time": "2024-05-21T12:53:40.084885700Z",
     "start_time": "2024-05-21T12:53:39.566070400Z"
    }
   },
   "outputs": [],
   "source": [
    "import pandas as pd\n",
    "import numpy as np\n",
    "\n",
    "data = {\n",
    "    'A': [1, 2, 3, 4, 100],\n",
    "    'B': [1, -100, 3, 4, 5],\n",
    "    'C': [1, 2, 3, 4, 5]\n",
    "}\n",
    "\n",
    "df = pd.DataFrame(data)\n"
   ]
  },
  {
   "cell_type": "code",
   "execution_count": 2,
   "id": "43e65d1b-7de6-40d2-9468-e6acfaaae1f5",
   "metadata": {
    "ExecuteTime": {
     "end_time": "2024-05-21T12:53:40.108655300Z",
     "start_time": "2024-05-21T12:53:40.088200600Z"
    }
   },
   "outputs": [
    {
     "name": "stdout",
     "output_type": "stream",
     "text": [
      "Outliers in column A:\n",
      " 0    False\n",
      "1    False\n",
      "2    False\n",
      "3    False\n",
      "4     True\n",
      "Name: A, dtype: bool\n",
      "DataFrame without outliers:\n",
      "    A  B  C\n",
      "0  1  1  1\n",
      "2  3  3  3\n",
      "3  4  4  4\n",
      "DataFrame with outliers replaced by median:\n",
      "    A  B  C\n",
      "0  1  1  1\n",
      "1  2  3  2\n",
      "2  3  3  3\n",
      "3  4  4  4\n",
      "4  3  5  5\n"
     ]
    }
   ],
   "source": [
    "# Import OutlierHandler module\n",
    "from data_cleaner.outlier_handler import OutlierHandler\n",
    "\n",
    "# Initialize the class\n",
    "handler = OutlierHandler(df)\n",
    "\n",
    "# Identify outliers\n",
    "outliers_A = handler.identify_outliers('A')\n",
    "print(\"Outliers in column A:\\n\", outliers_A)\n",
    "\n",
    "# Delete rows containing outliers\n",
    "df_no_outliers = handler.remove_outliers(columns=['A', 'B'])\n",
    "print(\"DataFrame without outliers:\\n\", df_no_outliers)\n",
    "\n",
    "# Replace outliers with iqr\n",
    "df_replaced_outliers = handler.replace_outliers_with_iqr(columns=['A', 'B'])\n",
    "print(\"DataFrame with outliers replaced by median:\\n\", df_replaced_outliers)\n"
   ]
  },
  {
   "cell_type": "code",
   "execution_count": null,
   "id": "1afc8fb6-c5ab-42f1-850a-88bce7810dbd",
   "metadata": {},
   "outputs": [],
   "source": []
  }
 ],
 "metadata": {
  "kernelspec": {
   "display_name": "Python 3 (ipykernel)",
   "language": "python",
   "name": "python3"
  },
  "language_info": {
   "codemirror_mode": {
    "name": "ipython",
    "version": 3
   },
   "file_extension": ".py",
   "mimetype": "text/x-python",
   "name": "python",
   "nbconvert_exporter": "python",
   "pygments_lexer": "ipython3",
   "version": "3.11.5"
  }
 },
 "nbformat": 4,
 "nbformat_minor": 5
}
