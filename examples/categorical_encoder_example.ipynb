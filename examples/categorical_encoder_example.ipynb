{
 "cells": [
  {
   "cell_type": "code",
   "execution_count": 1,
   "id": "42ade639-527b-44c7-992b-855481268939",
   "metadata": {
    "ExecuteTime": {
     "end_time": "2024-05-21T13:46:13.854840Z",
     "start_time": "2024-05-21T13:46:13.146821500Z"
    }
   },
   "outputs": [],
   "source": [
    "import pandas as pd\n",
    "\n",
    "# Sample Data\n",
    "data = pd.DataFrame({\n",
    "    'Color': ['Red', 'Blue', 'Green', 'Blue', 'Red'],\n",
    "})"
   ]
  },
  {
   "cell_type": "code",
   "execution_count": 5,
   "id": "270526dc-7f0f-488f-8b13-43364dc4c198",
   "metadata": {
    "ExecuteTime": {
     "end_time": "2024-05-21T13:47:54.805086800Z",
     "start_time": "2024-05-21T13:47:54.794528Z"
    }
   },
   "outputs": [
    {
     "name": "stdout",
     "output_type": "stream",
     "text": [
      "One hot encoded\n",
      "[[0. 0. 1.]\n",
      " [1. 0. 0.]\n",
      " [0. 1. 0.]\n",
      " [1. 0. 0.]\n",
      " [0. 0. 1.]]\n",
      "\n",
      "Label encoded\n",
      "[2 0 1 0 2]\n"
     ]
    }
   ],
   "source": [
    "from data_cleaner.categorical_encoder import CategoricalEncoder\n",
    "\n",
    "# Initialize encoder\n",
    "encoder = CategoricalEncoder()\n",
    "\n",
    "print(\"One hot encoded\")\n",
    "one_hot_encoded_data = encoder.fit_transform_one_hot(data)\n",
    "print(one_hot_encoded_data)\n",
    "\n",
    "print(\"\\nLabel encoded\")\n",
    "# Label Encoding\n",
    "label_encoded_data = encoder.fit_transform_label(data['Color'])\n",
    "print(label_encoded_data)"
   ]
  },
  {
   "cell_type": "code",
   "execution_count": null,
   "id": "c13af741abc1efbd",
   "metadata": {
    "collapsed": false
   },
   "outputs": [],
   "source": []
  }
 ],
 "metadata": {
  "kernelspec": {
   "display_name": "Python 3 (ipykernel)",
   "language": "python",
   "name": "python3"
  },
  "language_info": {
   "codemirror_mode": {
    "name": "ipython",
    "version": 3
   },
   "file_extension": ".py",
   "mimetype": "text/x-python",
   "name": "python",
   "nbconvert_exporter": "python",
   "pygments_lexer": "ipython3",
   "version": "3.11.5"
  }
 },
 "nbformat": 4,
 "nbformat_minor": 5
}
