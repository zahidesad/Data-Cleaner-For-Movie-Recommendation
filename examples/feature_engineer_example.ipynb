{
 "cells": [
  {
   "cell_type": "code",
   "execution_count": 1,
   "id": "b2c1e6df-d047-41ac-ad40-a72334d6f48a",
   "metadata": {
    "ExecuteTime": {
     "end_time": "2024-05-21T14:31:37.700032200Z",
     "start_time": "2024-05-21T14:31:37.190692200Z"
    }
   },
   "outputs": [],
   "source": [
    "import pandas as pd\n",
    "from data_cleaner.feature_engineer import FeatureEngineer\n",
    "\n",
    "# Sample DataFrame\n",
    "data = {\n",
    "    'A': [1, 2, 3, 4, 5],\n",
    "    'B': [5, 4, 3, 2, 1],\n",
    "    'date': pd.date_range('2021-01-01', periods=5)\n",
    "}"
   ]
  },
  {
   "cell_type": "code",
   "execution_count": 6,
   "id": "753b3152-ecd1-414d-8a93-c3adb3069a0f",
   "metadata": {
    "ExecuteTime": {
     "end_time": "2024-05-21T14:33:46.852483600Z",
     "start_time": "2024-05-21T14:33:46.844236800Z"
    }
   },
   "outputs": [
    {
     "name": "stdout",
     "output_type": "stream",
     "text": [
      "   A  B       date  A_poly_2  A_poly_3  A_x_B\n",
      "0  1  5 2021-01-01         1         1      5\n",
      "1  2  4 2021-01-02         4         8      8\n",
      "2  3  3 2021-01-03         9        27      9\n",
      "3  4  2 2021-01-04        16        64      8\n",
      "4  5  1 2021-01-05        25       125      5\n"
     ]
    }
   ],
   "source": [
    "df = pd.DataFrame(data)\n",
    "\n",
    "# Initialize FeatureEngineer with DataFrame\n",
    "fe = FeatureEngineer(df)\n",
    "\n",
    "# Add polynomial features\n",
    "df = fe.add_polynomial_features('A', degree=3)\n",
    "\n",
    "# Add interaction features\n",
    "df = fe.add_interaction_features('A', 'B')\n",
    "\n",
    "print(df)\n"
   ]
  },
  {
   "cell_type": "code",
   "execution_count": 13,
   "id": "0ab2dadb-3258-42b5-8818-69db71e673bb",
   "metadata": {
    "ExecuteTime": {
     "end_time": "2024-05-21T14:27:56.379295Z",
     "start_time": "2024-05-21T14:27:56.374271500Z"
    }
   },
   "outputs": [],
   "source": []
  }
 ],
 "metadata": {
  "kernelspec": {
   "display_name": "Python 3 (ipykernel)",
   "language": "python",
   "name": "python3"
  },
  "language_info": {
   "codemirror_mode": {
    "name": "ipython",
    "version": 3
   },
   "file_extension": ".py",
   "mimetype": "text/x-python",
   "name": "python",
   "nbconvert_exporter": "python",
   "pygments_lexer": "ipython3",
   "version": "3.11.5"
  }
 },
 "nbformat": 4,
 "nbformat_minor": 5
}
