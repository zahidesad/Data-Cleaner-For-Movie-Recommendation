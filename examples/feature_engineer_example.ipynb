{
 "cells": [
  {
   "cell_type": "code",
   "execution_count": 5,
   "id": "b2c1e6df-d047-41ac-ad40-a72334d6f48a",
   "metadata": {},
   "outputs": [
    {
     "name": "stdout",
     "output_type": "stream",
     "text": [
      "Original DataFrame:\n",
      "   A   B\n",
      "0  1  10\n",
      "1  2  20\n",
      "2  3  30\n",
      "3  4  40\n",
      "4  5  50\n",
      "\n",
      "DataFrame after creating a new feature (A_squared):\n",
      "   A   B  A_squared\n",
      "0  1  10          1\n",
      "1  2  20          4\n",
      "2  3  30          9\n",
      "3  4  40         16\n",
      "4  5  50         25\n",
      "\n",
      "DataFrame after binning column A:\n",
      "   A   B  A_squared A_binned\n",
      "0  1  10          1      Low\n",
      "1  2  20          4      Low\n",
      "2  3  30          9   Medium\n",
      "3  4  40         16   Medium\n",
      "4  5  50         25     High\n"
     ]
    }
   ],
   "source": [
    "import sys\n",
    "sys.path.append(\"..\")\n",
    "\n",
    "import pandas as pd\n",
    "from data_cleaner.feature_engineer import FeatureEngineer\n",
    "\n",
    "# Example DataFrame\n",
    "df = pd.DataFrame({\n",
    "    'A': [1, 2, 3, 4, 5],\n",
    "    'B': [10, 20, 30, 40, 50]\n",
    "})\n",
    "\n",
    "print(\"Original DataFrame:\")\n",
    "print(df)\n",
    "\n",
    "# Create a new feature\n",
    "df = FeatureEngineer.create_feature(df, 'A_squared', lambda row: row['A'] ** 2)\n",
    "print(\"\\nDataFrame after creating a new feature (A_squared):\")\n",
    "print(df)\n",
    "\n",
    "# Binning\n",
    "df = FeatureEngineer.binning(df, 'A', bins=[0, 2, 4, 6], labels=['Low', 'Medium', 'High'])\n",
    "print(\"\\nDataFrame after binning column A:\")\n",
    "print(df)\n"
   ]
  },
  {
   "cell_type": "code",
   "execution_count": null,
   "id": "753b3152-ecd1-414d-8a93-c3adb3069a0f",
   "metadata": {},
   "outputs": [],
   "source": []
  }
 ],
 "metadata": {
  "kernelspec": {
   "display_name": "Python 3 (ipykernel)",
   "language": "python",
   "name": "python3"
  },
  "language_info": {
   "codemirror_mode": {
    "name": "ipython",
    "version": 3
   },
   "file_extension": ".py",
   "mimetype": "text/x-python",
   "name": "python",
   "nbconvert_exporter": "python",
   "pygments_lexer": "ipython3",
   "version": "3.11.5"
  }
 },
 "nbformat": 4,
 "nbformat_minor": 5
}
