{
 "cells": [
  {
   "cell_type": "code",
   "execution_count": 2,
   "id": "b2c1e6df-d047-41ac-ad40-a72334d6f48a",
   "metadata": {},
   "outputs": [
    {
     "name": "stdout",
     "output_type": "stream",
     "text": [
      "Original DataFrame:\n",
      "   A   B\n",
      "0  1  10\n",
      "1  2  20\n",
      "2  3  30\n",
      "3  4  40\n",
      "4  5  50\n",
      "\n",
      "DataFrame after creating a new feature (A_squared):\n",
      "   A   B  A_squared\n",
      "0  1  10          1\n",
      "1  2  20          4\n",
      "2  3  30          9\n",
      "3  4  40         16\n",
      "4  5  50         25\n",
      "\n",
      "DataFrame after binning column A:\n",
      "   A   B  A_squared A_binned\n",
      "0  1  10          1      Low\n",
      "1  2  20          4      Low\n",
      "2  3  30          9   Medium\n",
      "3  4  40         16   Medium\n",
      "4  5  50         25     High\n"
     ]
    }
   ],
   "source": [
    "import sys\n",
    "sys.path.append(\"..\")\n",
    "\n",
    "import pandas as pd\n",
    "from data_cleaner.feature_engineer import FeatureEngineer\n",
    "\n",
    "# Example DataFrame\n",
    "df = pd.DataFrame({\n",
    "    'A': [1, 2, 3, 4, 5],\n",
    "    'B': [10, 20, 30, 40, 50]\n",
    "})\n",
    "\n",
    "print(\"Original DataFrame:\")\n",
    "print(df)\n",
    "\n",
    "# Create a new feature\n",
    "df = FeatureEngineer.create_feature(df, 'A_squared', lambda row: row['A'] ** 2)\n",
    "print(\"\\nDataFrame after creating a new feature (A_squared):\")\n",
    "print(df)\n",
    "\n",
    "# Binning\n",
    "df = FeatureEngineer.binning(df, 'A', bins=[0, 2, 4, 6], labels=['Low', 'Medium', 'High'])\n",
    "print(\"\\nDataFrame after binning column A:\")\n",
    "print(df)\n"
   ]
  },
  {
   "cell_type": "code",
   "execution_count": 8,
   "id": "753b3152-ecd1-414d-8a93-c3adb3069a0f",
   "metadata": {},
   "outputs": [
    {
     "name": "stdout",
     "output_type": "stream",
     "text": [
      "Original DataFrame:\n",
      "0      9.750176\n",
      "1      7.912876\n",
      "2      3.116053\n",
      "3      8.811783\n",
      "4      5.250991\n",
      "         ...   \n",
      "995    9.289647\n",
      "996    8.779748\n",
      "997    3.418956\n",
      "998    9.090440\n",
      "999    7.430801\n",
      "Name: Rating, Length: 1000, dtype: float64\n",
      "\n",
      "DataFrame after creating a new feature (RatingSquare):\n",
      "0      95.065926\n",
      "1      62.613614\n",
      "2       9.709784\n",
      "3      77.647519\n",
      "4      27.572905\n",
      "         ...    \n",
      "995    86.297536\n",
      "996    77.083974\n",
      "997    11.689261\n",
      "998    82.636105\n",
      "999    55.216803\n",
      "Name: RatingSquare, Length: 1000, dtype: float64\n",
      "\n",
      "DataFrame after binning column ColumnToBin:\n",
      "0        High\n",
      "1      Medium\n",
      "2         Low\n",
      "3        High\n",
      "4         Low\n",
      "        ...  \n",
      "995      High\n",
      "996      High\n",
      "997       Low\n",
      "998      High\n",
      "999    Medium\n",
      "Name: RatingSquare_binned, Length: 1000, dtype: category\n",
      "Categories (3, object): ['Low' < 'Medium' < 'High']\n"
     ]
    }
   ],
   "source": [
    "df = pd.read_csv('C:\\\\Users\\\\zahid\\\\Programming For Data Engineering\\\\Data Cleaner For Movie Recommendation\\\\tests\\\\synthetic_sample_data.csv')\n",
    "\n",
    "print(\"Original DataFrame:\")\n",
    "print(df['Rating'])\n",
    "\n",
    "# Create a new feature\n",
    "df = FeatureEngineer.create_feature(df, 'RatingSquare', lambda row: row['Rating'] ** 2)\n",
    "print(\"\\nDataFrame after creating a new feature (RatingSquare):\")\n",
    "print(df[\"RatingSquare\"])\n",
    "\n",
    "# Binning\n",
    "df = FeatureEngineer.binning(df, 'RatingSquare', bins=[0, 50, 75, 100], labels=['Low', 'Medium', 'High'])\n",
    "print(\"\\nDataFrame after binning column ColumnToBin:\")\n",
    "print(df[\"RatingSquare_binned\"])"
   ]
  },
  {
   "cell_type": "code",
   "execution_count": null,
   "id": "0ab2dadb-3258-42b5-8818-69db71e673bb",
   "metadata": {},
   "outputs": [],
   "source": []
  }
 ],
 "metadata": {
  "kernelspec": {
   "display_name": "Python 3 (ipykernel)",
   "language": "python",
   "name": "python3"
  },
  "language_info": {
   "codemirror_mode": {
    "name": "ipython",
    "version": 3
   },
   "file_extension": ".py",
   "mimetype": "text/x-python",
   "name": "python",
   "nbconvert_exporter": "python",
   "pygments_lexer": "ipython3",
   "version": "3.11.5"
  }
 },
 "nbformat": 4,
 "nbformat_minor": 5
}
