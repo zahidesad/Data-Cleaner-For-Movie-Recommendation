{
 "cells": [
  {
   "cell_type": "code",
   "execution_count": 2,
   "id": "5504323a-e90a-4082-8962-4f9583367cd2",
   "metadata": {
    "ExecuteTime": {
     "end_time": "2024-05-21T14:38:53.357660300Z",
     "start_time": "2024-05-21T14:38:53.350563700Z"
    }
   },
   "outputs": [],
   "source": [
    "import pandas as pd\n",
    "\n",
    "# Sample DataFrame\n",
    "data = {\n",
    "    'date': ['2024-05-20 12:45:35', '2023-06-14 15:30:00', '2022-07-25 09:15:20']\n",
    "}\n"
   ]
  },
  {
   "cell_type": "code",
   "execution_count": 3,
   "id": "cf518ba4-8ac0-47a0-8b12-47a6b353d56d",
   "metadata": {
    "ExecuteTime": {
     "end_time": "2024-05-21T14:38:53.864622600Z",
     "start_time": "2024-05-21T14:38:53.835320400Z"
    }
   },
   "outputs": [
    {
     "name": "stdout",
     "output_type": "stream",
     "text": [
      "Converted to datetime:\n",
      "                  date\n",
      "0 2024-05-20 12:45:35\n",
      "1 2023-06-14 15:30:00\n",
      "2 2022-07-25 09:15:20\n",
      "Extracted date parts:\n",
      "                  date  year  month  day  hour  minute  second\n",
      "0 2024-05-20 12:45:35  2024      5   20    12      45      35\n",
      "1 2023-06-14 15:30:00  2023      6   14    15      30       0\n",
      "2 2022-07-25 09:15:20  2022      7   25     9      15      20\n",
      "Filtered by date range:\n",
      "                  date  year  month  day  hour  minute  second\n",
      "1 2023-06-14 15:30:00  2023      6   14    15      30       0\n",
      "Added 10 days:\n",
      "                  date  year  month  day  hour  minute  second\n",
      "0 2024-05-30 12:45:35  2024      5   20    12      45      35\n",
      "1 2023-06-24 15:30:00  2023      6   14    15      30       0\n",
      "2 2022-08-04 09:15:20  2022      7   25     9      15      20\n"
     ]
    }
   ],
   "source": [
    "from data_cleaner.date_time_handler import DateTimeHandler\n",
    "\n",
    "df = pd.DataFrame(data)\n",
    "\n",
    "# Instantiate DateTimeHandler\n",
    "date_handler = DateTimeHandler(date_column='date')\n",
    "\n",
    "# Convert to datetime\n",
    "df = date_handler.convert_to_datetime(df)\n",
    "print(\"Converted to datetime:\\n\", df)\n",
    "\n",
    "# Extract date parts\n",
    "df = date_handler.extract_date_parts(df)\n",
    "print(\"Extracted date parts:\\n\", df)\n",
    "\n",
    "# Filter by date range\n",
    "df_filtered = date_handler.filter_by_date_range(df, '2023-01-01', '2024-01-01')\n",
    "print(\"Filtered by date range:\\n\", df_filtered)\n",
    "\n",
    "# Add days to date\n",
    "df = date_handler.add_days(df, 10)\n",
    "print(\"Added 10 days:\\n\", df)\n"
   ]
  },
  {
   "cell_type": "code",
   "execution_count": null,
   "id": "7a7e5434-7b89-46cb-ad46-eef4d98d62f9",
   "metadata": {},
   "outputs": [],
   "source": []
  }
 ],
 "metadata": {
  "kernelspec": {
   "display_name": "Python 3 (ipykernel)",
   "language": "python",
   "name": "python3"
  },
  "language_info": {
   "codemirror_mode": {
    "name": "ipython",
    "version": 3
   },
   "file_extension": ".py",
   "mimetype": "text/x-python",
   "name": "python",
   "nbconvert_exporter": "python",
   "pygments_lexer": "ipython3",
   "version": "3.11.5"
  }
 },
 "nbformat": 4,
 "nbformat_minor": 5
}
